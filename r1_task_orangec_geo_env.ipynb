{
 "cells": [
  {
   "cell_type": "code",
   "execution_count": 1,
   "id": "8d6617de",
   "metadata": {},
   "outputs": [
    {
     "data": {
      "text/html": [
       "<style>.container { width:100% !important; }</style>"
      ],
      "text/plain": [
       "<IPython.core.display.HTML object>"
      ]
     },
     "metadata": {},
     "output_type": "display_data"
    }
   ],
   "source": [
    "\n",
    "# dataframe\n",
    "import numpy as np\n",
    "import pandas as pd\n",
    "import matplotlib.pyplot as plt\n",
    "import seaborn as sns\n",
    "import os\n",
    "import geopandas as gpd\n",
    "import folium\n",
    "\n",
    "\n",
    "#https://github.com/datakind/sep21-housing-insecurity/blob/main/code/jeffng/DataKind.ipynb\n",
    "\n",
    "import geoplot\n",
    "#extend borders \n",
    "from IPython.core.display import display, HTML\n",
    "display(HTML(\"<style>.container { width:100% !important; }</style>\"))\n"
   ]
  },
  {
   "cell_type": "code",
   "execution_count": 4,
   "id": "b620f782",
   "metadata": {},
   "outputs": [],
   "source": [
    "#set wd - Work \n",
    "os.chdir(\"/Users/jordan/Documents/GitHub/datakind_housing_insecurity_2021-copy/housing_loss_data\")\n",
    "\n",
    "#set wd - Home\n",
    "#os.chdir(\"/Users/jordancreenaune/Desktop/Python_for_Data_Science/DataKind/September/housing_loss_data\")\n",
    "#import data \n",
    "orangec = pd.read_csv(\"orange_fl_processed_2017_to_2019_20210916.csv\")"
   ]
  },
  {
   "cell_type": "code",
   "execution_count": 5,
   "id": "02fc25ae",
   "metadata": {},
   "outputs": [],
   "source": [
    "result=orangec.set_index('census_tract_GEOID')\n"
   ]
  },
  {
   "cell_type": "code",
   "execution_count": 5,
   "id": "d03e3413",
   "metadata": {},
   "outputs": [
    {
     "data": {
      "text/plain": [
       "Index(['census_tract_GEOID', 'total-households',\n",
       "       'total-renter-occupied-households', 'total-owner-occupied-households',\n",
       "       'total-owner-occupied-households-mortgage', 'median-gross-rent',\n",
       "       'median-household-income', 'median-property-value',\n",
       "       'median-monthly-housing-cost', 'pct-white', 'pct-af-am', 'pct-hispanic',\n",
       "       'pct-am-indian', 'pct-asian', 'pct-nh-pi', 'pct-multiple', 'pct-other',\n",
       "       'pct-below-poverty-level', 'households-children',\n",
       "       'single-parent-household', 'older-adult-alone', 'level-of-education',\n",
       "       'immigrant-status', 'english-fluency', 'drive-to-work',\n",
       "       'public-transport-to-work', 'vacant-properties', 'live-in-mobile-home',\n",
       "       'pct-renter-occupied', 'pct-owner-occupied',\n",
       "       'pct-owner-occupied-mortgage', 'pct-owner-occupied-without-mortgage',\n",
       "       'median-house-age', 'pct-non-white', 'pct-without-health-insurance',\n",
       "       'total-evictions', 'avg-evictions', 'total-foreclosure-sales',\n",
       "       'avg-foreclosure-sales', 'total-lien-foreclosures',\n",
       "       'avg-lien-foreclosures', 'total-evictions-2017',\n",
       "       'eviction-filings-2017', 'eviction-rate-2017', 'total-evictions-2018',\n",
       "       'eviction-filings-2018', 'eviction-rate-2018', 'total-evictions-2019',\n",
       "       'eviction-filings-2019', 'eviction-rate-2019', 'foreclosure-sales-2017',\n",
       "       'foreclosure-sales-2018', 'foreclosure-sales-2019',\n",
       "       'lien-foreclosures-2017', 'lien-foreclosures-2018',\n",
       "       'lien-foreclosures-2019', 'avg-foreclosure-rate',\n",
       "       'foreclosure-rate-2017', 'foreclosure-rate-2018',\n",
       "       'foreclosure-rate-2019', 'avg-lien-foreclosure-rate',\n",
       "       'lien-foreclosure-rate-2017', 'lien-foreclosure-rate-2018',\n",
       "       'lien-foreclosure-rate-2019', 'avg-eviction-rate',\n",
       "       'ratio-to-mean-foreclosure-rate', 'ratio-to-mean-eviction-rate',\n",
       "       'avg-housing-loss-rate', 'evictions-pct-total-housing-loss',\n",
       "       'housing-loss-index', 'county_GEOID', 'county', 'state'],\n",
       "      dtype='object')"
      ]
     },
     "execution_count": 5,
     "metadata": {},
     "output_type": "execute_result"
    }
   ],
   "source": [
    "#check what columns to use \n",
    "orangec.columns\n"
   ]
  },
  {
   "cell_type": "code",
   "execution_count": 6,
   "id": "8eb10db0",
   "metadata": {},
   "outputs": [],
   "source": [
    "#Select data that we are interested in - census tract + housing loss \n",
    "\n",
    "map_data=result.reset_index()[['census_tract_GEOID', 'housing-loss-index']]"
   ]
  },
  {
   "cell_type": "code",
   "execution_count": 7,
   "id": "6a7b3d3e",
   "metadata": {},
   "outputs": [
    {
     "data": {
      "text/html": [
       "<div>\n",
       "<style scoped>\n",
       "    .dataframe tbody tr th:only-of-type {\n",
       "        vertical-align: middle;\n",
       "    }\n",
       "\n",
       "    .dataframe tbody tr th {\n",
       "        vertical-align: top;\n",
       "    }\n",
       "\n",
       "    .dataframe thead th {\n",
       "        text-align: right;\n",
       "    }\n",
       "</style>\n",
       "<table border=\"1\" class=\"dataframe\">\n",
       "  <thead>\n",
       "    <tr style=\"text-align: right;\">\n",
       "      <th></th>\n",
       "      <th>census_tract_GEOID</th>\n",
       "      <th>housing-loss-index</th>\n",
       "    </tr>\n",
       "  </thead>\n",
       "  <tbody>\n",
       "    <tr>\n",
       "      <th>0</th>\n",
       "      <td>12095016602</td>\n",
       "      <td>0.765360</td>\n",
       "    </tr>\n",
       "    <tr>\n",
       "      <th>1</th>\n",
       "      <td>12095015902</td>\n",
       "      <td>0.425127</td>\n",
       "    </tr>\n",
       "    <tr>\n",
       "      <th>2</th>\n",
       "      <td>12095016407</td>\n",
       "      <td>1.343664</td>\n",
       "    </tr>\n",
       "    <tr>\n",
       "      <th>3</th>\n",
       "      <td>12095016507</td>\n",
       "      <td>0.463515</td>\n",
       "    </tr>\n",
       "    <tr>\n",
       "      <th>4</th>\n",
       "      <td>12095017501</td>\n",
       "      <td>0.947435</td>\n",
       "    </tr>\n",
       "  </tbody>\n",
       "</table>\n",
       "</div>"
      ],
      "text/plain": [
       "   census_tract_GEOID  housing-loss-index\n",
       "0         12095016602            0.765360\n",
       "1         12095015902            0.425127\n",
       "2         12095016407            1.343664\n",
       "3         12095016507            0.463515\n",
       "4         12095017501            0.947435"
      ]
     },
     "execution_count": 7,
     "metadata": {},
     "output_type": "execute_result"
    }
   ],
   "source": [
    "map_data.head()"
   ]
  },
  {
   "cell_type": "code",
   "execution_count": 8,
   "id": "9493ed67",
   "metadata": {},
   "outputs": [],
   "source": [
    "df = gpd.read_file('orange_fl_2010_tracts_formatted.geojson')\n",
    "\n",
    "\n",
    "#orangec = pd.read_csv(\"orange_fl_processed_2017_to_2019_20210916.csv\")"
   ]
  },
  {
   "cell_type": "code",
   "execution_count": 10,
   "id": "d00bbb49",
   "metadata": {},
   "outputs": [
    {
     "data": {
      "text/html": [
       "<div>\n",
       "<style scoped>\n",
       "    .dataframe tbody tr th:only-of-type {\n",
       "        vertical-align: middle;\n",
       "    }\n",
       "\n",
       "    .dataframe tbody tr th {\n",
       "        vertical-align: top;\n",
       "    }\n",
       "\n",
       "    .dataframe thead th {\n",
       "        text-align: right;\n",
       "    }\n",
       "</style>\n",
       "<table border=\"1\" class=\"dataframe\">\n",
       "  <thead>\n",
       "    <tr style=\"text-align: right;\">\n",
       "      <th></th>\n",
       "      <th>census_tract_GEOID</th>\n",
       "      <th>geometry</th>\n",
       "    </tr>\n",
       "  </thead>\n",
       "  <tbody>\n",
       "    <tr>\n",
       "      <th>0</th>\n",
       "      <td>12095012402</td>\n",
       "      <td>POLYGON ((-81.43856 28.59092, -81.43856 28.590...</td>\n",
       "    </tr>\n",
       "    <tr>\n",
       "      <th>1</th>\n",
       "      <td>12095012000</td>\n",
       "      <td>POLYGON ((-81.45218 28.57349, -81.45219 28.573...</td>\n",
       "    </tr>\n",
       "    <tr>\n",
       "      <th>2</th>\n",
       "      <td>12095016602</td>\n",
       "      <td>POLYGON ((-81.15419 28.56535, -81.15418 28.565...</td>\n",
       "    </tr>\n",
       "    <tr>\n",
       "      <th>3</th>\n",
       "      <td>12095014904</td>\n",
       "      <td>POLYGON ((-81.50493 28.55923, -81.50492 28.558...</td>\n",
       "    </tr>\n",
       "    <tr>\n",
       "      <th>4</th>\n",
       "      <td>12095014702</td>\n",
       "      <td>POLYGON ((-81.47583 28.53910, -81.47582 28.538...</td>\n",
       "    </tr>\n",
       "    <tr>\n",
       "      <th>...</th>\n",
       "      <td>...</td>\n",
       "      <td>...</td>\n",
       "    </tr>\n",
       "    <tr>\n",
       "      <th>202</th>\n",
       "      <td>12095017806</td>\n",
       "      <td>POLYGON ((-81.48867 28.68444, -81.48868 28.684...</td>\n",
       "    </tr>\n",
       "    <tr>\n",
       "      <th>203</th>\n",
       "      <td>12095014608</td>\n",
       "      <td>POLYGON ((-81.45939 28.52799, -81.45936 28.527...</td>\n",
       "    </tr>\n",
       "    <tr>\n",
       "      <th>204</th>\n",
       "      <td>12095014609</td>\n",
       "      <td>POLYGON ((-81.45930 28.52077, -81.45928 28.519...</td>\n",
       "    </tr>\n",
       "    <tr>\n",
       "      <th>205</th>\n",
       "      <td>12095014908</td>\n",
       "      <td>POLYGON ((-81.49210 28.56448, -81.49211 28.564...</td>\n",
       "    </tr>\n",
       "    <tr>\n",
       "      <th>206</th>\n",
       "      <td>12095013402</td>\n",
       "      <td>POLYGON ((-81.29638 28.52906, -81.29638 28.528...</td>\n",
       "    </tr>\n",
       "  </tbody>\n",
       "</table>\n",
       "<p>207 rows × 2 columns</p>\n",
       "</div>"
      ],
      "text/plain": [
       "    census_tract_GEOID                                           geometry\n",
       "0          12095012402  POLYGON ((-81.43856 28.59092, -81.43856 28.590...\n",
       "1          12095012000  POLYGON ((-81.45218 28.57349, -81.45219 28.573...\n",
       "2          12095016602  POLYGON ((-81.15419 28.56535, -81.15418 28.565...\n",
       "3          12095014904  POLYGON ((-81.50493 28.55923, -81.50492 28.558...\n",
       "4          12095014702  POLYGON ((-81.47583 28.53910, -81.47582 28.538...\n",
       "..                 ...                                                ...\n",
       "202        12095017806  POLYGON ((-81.48867 28.68444, -81.48868 28.684...\n",
       "203        12095014608  POLYGON ((-81.45939 28.52799, -81.45936 28.527...\n",
       "204        12095014609  POLYGON ((-81.45930 28.52077, -81.45928 28.519...\n",
       "205        12095014908  POLYGON ((-81.49210 28.56448, -81.49211 28.564...\n",
       "206        12095013402  POLYGON ((-81.29638 28.52906, -81.29638 28.528...\n",
       "\n",
       "[207 rows x 2 columns]"
      ]
     },
     "execution_count": 10,
     "metadata": {},
     "output_type": "execute_result"
    }
   ],
   "source": [
    "df"
   ]
  },
  {
   "cell_type": "code",
   "execution_count": 14,
   "id": "ebb91e77",
   "metadata": {},
   "outputs": [],
   "source": [
    "df.geometry\n",
    "\n",
    "df=df.geometry\n"
   ]
  },
  {
   "cell_type": "code",
   "execution_count": 15,
   "id": "1fb4f3ab",
   "metadata": {},
   "outputs": [],
   "source": [
    "import geoplot\n",
    "import geoplot.crs as gcrs"
   ]
  },
  {
   "cell_type": "code",
   "execution_count": 16,
   "id": "e83d0fa4",
   "metadata": {},
   "outputs": [],
   "source": [
    "map_data=map_data.reset_index()\n",
    "df=df.reset_index()"
   ]
  },
  {
   "cell_type": "code",
   "execution_count": 17,
   "id": "0426c0b9",
   "metadata": {},
   "outputs": [
    {
     "ename": "AttributeError",
     "evalue": "'GeoDataFrame' object has no attribute 'census_tract_GEOID'",
     "output_type": "error",
     "traceback": [
      "\u001b[0;31m---------------------------------------------------------------------------\u001b[0m",
      "\u001b[0;31mAttributeError\u001b[0m                            Traceback (most recent call last)",
      "\u001b[0;32m/var/folders/5w/j1lwzvsn2wqcnrhw343p9vd00000gn/T/ipykernel_2722/1112345206.py\u001b[0m in \u001b[0;36m<module>\u001b[0;34m\u001b[0m\n\u001b[1;32m      2\u001b[0m \u001b[0;32mimport\u001b[0m \u001b[0mmatplotlib\u001b[0m\u001b[0;34m.\u001b[0m\u001b[0mpyplot\u001b[0m \u001b[0;32mas\u001b[0m \u001b[0mplt\u001b[0m\u001b[0;34m\u001b[0m\u001b[0;34m\u001b[0m\u001b[0m\n\u001b[1;32m      3\u001b[0m \u001b[0mmap_data\u001b[0m\u001b[0;34m.\u001b[0m\u001b[0mcensus_tract_GEOID\u001b[0m \u001b[0;34m=\u001b[0m \u001b[0mmap_data\u001b[0m\u001b[0;34m.\u001b[0m\u001b[0mcensus_tract_GEOID\u001b[0m\u001b[0;34m.\u001b[0m\u001b[0mastype\u001b[0m\u001b[0;34m(\u001b[0m\u001b[0mstr\u001b[0m\u001b[0;34m)\u001b[0m\u001b[0;34m.\u001b[0m\u001b[0mastype\u001b[0m\u001b[0;34m(\u001b[0m\u001b[0mint\u001b[0m\u001b[0;34m)\u001b[0m\u001b[0;34m\u001b[0m\u001b[0;34m\u001b[0m\u001b[0m\n\u001b[0;32m----> 4\u001b[0;31m \u001b[0mdf\u001b[0m\u001b[0;34m.\u001b[0m\u001b[0mcensus_tract_GEOID\u001b[0m\u001b[0;34m=\u001b[0m \u001b[0mdf\u001b[0m\u001b[0;34m.\u001b[0m\u001b[0mcensus_tract_GEOID\u001b[0m\u001b[0;34m.\u001b[0m\u001b[0mastype\u001b[0m\u001b[0;34m(\u001b[0m\u001b[0mstr\u001b[0m\u001b[0;34m)\u001b[0m\u001b[0;34m.\u001b[0m\u001b[0mastype\u001b[0m\u001b[0;34m(\u001b[0m\u001b[0mint\u001b[0m\u001b[0;34m)\u001b[0m\u001b[0;34m\u001b[0m\u001b[0;34m\u001b[0m\u001b[0m\n\u001b[0m\u001b[1;32m      5\u001b[0m \u001b[0mfig\u001b[0m\u001b[0;34m,\u001b[0m \u001b[0max\u001b[0m \u001b[0;34m=\u001b[0m \u001b[0mplt\u001b[0m\u001b[0;34m.\u001b[0m\u001b[0msubplots\u001b[0m\u001b[0;34m(\u001b[0m\u001b[0;36m1\u001b[0m\u001b[0;34m,\u001b[0m \u001b[0;36m1\u001b[0m\u001b[0;34m,\u001b[0m \u001b[0mfigsize\u001b[0m\u001b[0;34m=\u001b[0m\u001b[0;34m(\u001b[0m\u001b[0;36m16\u001b[0m\u001b[0;34m,\u001b[0m \u001b[0;36m12\u001b[0m\u001b[0;34m)\u001b[0m\u001b[0;34m)\u001b[0m\u001b[0;34m\u001b[0m\u001b[0;34m\u001b[0m\u001b[0m\n\u001b[1;32m      6\u001b[0m \u001b[0mfullData\u001b[0m \u001b[0;34m=\u001b[0m \u001b[0mmap_data\u001b[0m\u001b[0;34m.\u001b[0m\u001b[0mmerge\u001b[0m\u001b[0;34m(\u001b[0m\u001b[0mdf\u001b[0m\u001b[0;34m,\u001b[0m \u001b[0mleft_on\u001b[0m\u001b[0;34m=\u001b[0m\u001b[0;34m[\u001b[0m\u001b[0;34m'census_tract_GEOID'\u001b[0m\u001b[0;34m]\u001b[0m\u001b[0;34m,\u001b[0m \u001b[0mright_on\u001b[0m\u001b[0;34m=\u001b[0m\u001b[0;34m[\u001b[0m\u001b[0;34m'census_tract_GEOID'\u001b[0m\u001b[0;34m]\u001b[0m\u001b[0;34m)\u001b[0m\u001b[0;34m\u001b[0m\u001b[0;34m\u001b[0m\u001b[0m\n",
      "\u001b[0;32m~/opt/anaconda3/envs/geo_env/lib/python3.9/site-packages/pandas/core/generic.py\u001b[0m in \u001b[0;36m__getattr__\u001b[0;34m(self, name)\u001b[0m\n\u001b[1;32m   5485\u001b[0m         ):\n\u001b[1;32m   5486\u001b[0m             \u001b[0;32mreturn\u001b[0m \u001b[0mself\u001b[0m\u001b[0;34m[\u001b[0m\u001b[0mname\u001b[0m\u001b[0;34m]\u001b[0m\u001b[0;34m\u001b[0m\u001b[0;34m\u001b[0m\u001b[0m\n\u001b[0;32m-> 5487\u001b[0;31m         \u001b[0;32mreturn\u001b[0m \u001b[0mobject\u001b[0m\u001b[0;34m.\u001b[0m\u001b[0m__getattribute__\u001b[0m\u001b[0;34m(\u001b[0m\u001b[0mself\u001b[0m\u001b[0;34m,\u001b[0m \u001b[0mname\u001b[0m\u001b[0;34m)\u001b[0m\u001b[0;34m\u001b[0m\u001b[0;34m\u001b[0m\u001b[0m\n\u001b[0m\u001b[1;32m   5488\u001b[0m \u001b[0;34m\u001b[0m\u001b[0m\n\u001b[1;32m   5489\u001b[0m     \u001b[0;32mdef\u001b[0m \u001b[0m__setattr__\u001b[0m\u001b[0;34m(\u001b[0m\u001b[0mself\u001b[0m\u001b[0;34m,\u001b[0m \u001b[0mname\u001b[0m\u001b[0;34m:\u001b[0m \u001b[0mstr\u001b[0m\u001b[0;34m,\u001b[0m \u001b[0mvalue\u001b[0m\u001b[0;34m)\u001b[0m \u001b[0;34m->\u001b[0m \u001b[0;32mNone\u001b[0m\u001b[0;34m:\u001b[0m\u001b[0;34m\u001b[0m\u001b[0;34m\u001b[0m\u001b[0m\n",
      "\u001b[0;31mAttributeError\u001b[0m: 'GeoDataFrame' object has no attribute 'census_tract_GEOID'"
     ]
    }
   ],
   "source": [
    "\n",
    "import geoplot as gplt\n",
    "import matplotlib.pyplot as plt\n",
    "map_data.census_tract_GEOID = map_data.census_tract_GEOID.astype(str).astype(int)\n",
    "df.census_tract_GEOID= df.census_tract_GEOID.astype(str).astype(int)\n",
    "fig, ax = plt.subplots(1, 1, figsize=(16, 12))\n",
    "fullData = map_data.merge(df, left_on=['census_tract_GEOID'], right_on=['census_tract_GEOID'])\n",
    "fullData.head(2)"
   ]
  },
  {
   "cell_type": "code",
   "execution_count": null,
   "id": "33869371",
   "metadata": {},
   "outputs": [],
   "source": []
  }
 ],
 "metadata": {
  "kernelspec": {
   "display_name": "Python 3 (ipykernel)",
   "language": "python",
   "name": "python3"
  },
  "language_info": {
   "codemirror_mode": {
    "name": "ipython",
    "version": 3
   },
   "file_extension": ".py",
   "mimetype": "text/x-python",
   "name": "python",
   "nbconvert_exporter": "python",
   "pygments_lexer": "ipython3",
   "version": "3.9.7"
  }
 },
 "nbformat": 4,
 "nbformat_minor": 5
}
