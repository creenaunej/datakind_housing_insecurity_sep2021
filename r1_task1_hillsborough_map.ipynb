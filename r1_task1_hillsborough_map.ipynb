{
 "cells": [
  {
   "cell_type": "markdown",
   "id": "6e1a089b",
   "metadata": {},
   "source": [
    "Research Question 1 (Mapping - Interactive): Using the given “processed” data sets and GeoJSON files for Hillsborough, Miami-Dade, and Orange counties, explore 2-3 mapping techniques capable of displaying census tract-level eviction, foreclosure, or overall housing loss rates alongside key demographic information. Bonus points if the maps are interactive!\n",
    "\n",
    "Task 1: Using the programming language, library, or software of your choice, create interactive maps of housing loss for the census tracts of Hillsborough County, FL. Can you display evictions/foreclosures/overall housing loss aside other variables, either directly on the maps or using tooltips or similar functionality?"
   ]
  },
  {
   "cell_type": "code",
   "execution_count": 15,
   "id": "5991dfaf",
   "metadata": {},
   "outputs": [
    {
     "ename": "ModuleNotFoundError",
     "evalue": "No module named 'geopandas'",
     "output_type": "error",
     "traceback": [
      "\u001b[0;31m---------------------------------------------------------------------------\u001b[0m",
      "\u001b[0;31mModuleNotFoundError\u001b[0m                       Traceback (most recent call last)",
      "\u001b[0;32m<ipython-input-15-d02e5d6b7f99>\u001b[0m in \u001b[0;36m<module>\u001b[0;34m\u001b[0m\n\u001b[1;32m      5\u001b[0m \u001b[0;32mimport\u001b[0m \u001b[0mseaborn\u001b[0m \u001b[0;32mas\u001b[0m \u001b[0msns\u001b[0m\u001b[0;34m\u001b[0m\u001b[0;34m\u001b[0m\u001b[0m\n\u001b[1;32m      6\u001b[0m \u001b[0;32mimport\u001b[0m \u001b[0mos\u001b[0m\u001b[0;34m\u001b[0m\u001b[0;34m\u001b[0m\u001b[0m\n\u001b[0;32m----> 7\u001b[0;31m \u001b[0;32mimport\u001b[0m \u001b[0mgeopandas\u001b[0m \u001b[0;32mas\u001b[0m \u001b[0mgpd\u001b[0m\u001b[0;34m\u001b[0m\u001b[0;34m\u001b[0m\u001b[0m\n\u001b[0m\u001b[1;32m      8\u001b[0m \u001b[0;32mimport\u001b[0m \u001b[0mfolium\u001b[0m\u001b[0;34m\u001b[0m\u001b[0;34m\u001b[0m\u001b[0m\n\u001b[1;32m      9\u001b[0m \u001b[0;32mimport\u001b[0m \u001b[0mgeopandas\u001b[0m \u001b[0;32mas\u001b[0m \u001b[0mgpd\u001b[0m\u001b[0;34m\u001b[0m\u001b[0;34m\u001b[0m\u001b[0m\n",
      "\u001b[0;31mModuleNotFoundError\u001b[0m: No module named 'geopandas'"
     ]
    }
   ],
   "source": [
    "# dataframe\n",
    "import numpy as np\n",
    "import pandas as pd\n",
    "import matplotlib.pyplot as plt\n",
    "import seaborn as sns\n",
    "import os\n",
    "import geopandas as gpd\n",
    "import folium\n",
    "import geopandas as gpd\n",
    "import geopandas\n",
    "import geoplot\n",
    "\n",
    "#extend borders \n",
    "from IPython.core.display import display, HTML\n",
    "display(HTML(\"<style>.container { width:100% !important; }</style>\"))"
   ]
  },
  {
   "cell_type": "code",
   "execution_count": 4,
   "id": "bbf2f164",
   "metadata": {},
   "outputs": [],
   "source": [
    "#set wd\n",
    "os.chdir(\"/Users/jordancreenaune/Desktop/Python_for_Data_Science/DataKind/September/housing_loss_data\")\n",
    "#import data \n",
    "orangec = pd.read_csv(\"orange_fl_processed_2017_to_2019_20210916.csv\")\n"
   ]
  },
  {
   "cell_type": "code",
   "execution_count": 6,
   "id": "6940c8d0",
   "metadata": {},
   "outputs": [],
   "source": [
    "result=orangec.set_index('census_tract_GEOID')\n"
   ]
  },
  {
   "cell_type": "code",
   "execution_count": 7,
   "id": "e0c3a517",
   "metadata": {},
   "outputs": [
    {
     "data": {
      "text/plain": [
       "Index(['census_tract_GEOID', 'total-households',\n",
       "       'total-renter-occupied-households', 'total-owner-occupied-households',\n",
       "       'total-owner-occupied-households-mortgage', 'median-gross-rent',\n",
       "       'median-household-income', 'median-property-value',\n",
       "       'median-monthly-housing-cost', 'pct-white', 'pct-af-am', 'pct-hispanic',\n",
       "       'pct-am-indian', 'pct-asian', 'pct-nh-pi', 'pct-multiple', 'pct-other',\n",
       "       'pct-below-poverty-level', 'households-children',\n",
       "       'single-parent-household', 'older-adult-alone', 'level-of-education',\n",
       "       'immigrant-status', 'english-fluency', 'drive-to-work',\n",
       "       'public-transport-to-work', 'vacant-properties', 'live-in-mobile-home',\n",
       "       'pct-renter-occupied', 'pct-owner-occupied',\n",
       "       'pct-owner-occupied-mortgage', 'pct-owner-occupied-without-mortgage',\n",
       "       'median-house-age', 'pct-non-white', 'pct-without-health-insurance',\n",
       "       'total-evictions', 'avg-evictions', 'total-foreclosure-sales',\n",
       "       'avg-foreclosure-sales', 'total-lien-foreclosures',\n",
       "       'avg-lien-foreclosures', 'total-evictions-2017',\n",
       "       'eviction-filings-2017', 'eviction-rate-2017', 'total-evictions-2018',\n",
       "       'eviction-filings-2018', 'eviction-rate-2018', 'total-evictions-2019',\n",
       "       'eviction-filings-2019', 'eviction-rate-2019', 'foreclosure-sales-2017',\n",
       "       'foreclosure-sales-2018', 'foreclosure-sales-2019',\n",
       "       'lien-foreclosures-2017', 'lien-foreclosures-2018',\n",
       "       'lien-foreclosures-2019', 'avg-foreclosure-rate',\n",
       "       'foreclosure-rate-2017', 'foreclosure-rate-2018',\n",
       "       'foreclosure-rate-2019', 'avg-lien-foreclosure-rate',\n",
       "       'lien-foreclosure-rate-2017', 'lien-foreclosure-rate-2018',\n",
       "       'lien-foreclosure-rate-2019', 'avg-eviction-rate',\n",
       "       'ratio-to-mean-foreclosure-rate', 'ratio-to-mean-eviction-rate',\n",
       "       'avg-housing-loss-rate', 'evictions-pct-total-housing-loss',\n",
       "       'housing-loss-index', 'county_GEOID', 'county', 'state'],\n",
       "      dtype='object')"
      ]
     },
     "execution_count": 7,
     "metadata": {},
     "output_type": "execute_result"
    }
   ],
   "source": [
    "#check what columns to use \n",
    "orangec.columns\n",
    "\n"
   ]
  },
  {
   "cell_type": "code",
   "execution_count": 8,
   "id": "659ccc8f",
   "metadata": {},
   "outputs": [],
   "source": [
    "#Select data that we are interested in - census tract + housing loss \n",
    "\n",
    "map_data=result.reset_index()[['census_tract_GEOID', 'housing-loss-index']]\n"
   ]
  },
  {
   "cell_type": "code",
   "execution_count": 10,
   "id": "4cbc14fc",
   "metadata": {},
   "outputs": [
    {
     "data": {
      "text/html": [
       "<div>\n",
       "<style scoped>\n",
       "    .dataframe tbody tr th:only-of-type {\n",
       "        vertical-align: middle;\n",
       "    }\n",
       "\n",
       "    .dataframe tbody tr th {\n",
       "        vertical-align: top;\n",
       "    }\n",
       "\n",
       "    .dataframe thead th {\n",
       "        text-align: right;\n",
       "    }\n",
       "</style>\n",
       "<table border=\"1\" class=\"dataframe\">\n",
       "  <thead>\n",
       "    <tr style=\"text-align: right;\">\n",
       "      <th></th>\n",
       "      <th>census_tract_GEOID</th>\n",
       "      <th>housing-loss-index</th>\n",
       "    </tr>\n",
       "  </thead>\n",
       "  <tbody>\n",
       "    <tr>\n",
       "      <th>0</th>\n",
       "      <td>12095016602</td>\n",
       "      <td>0.765360</td>\n",
       "    </tr>\n",
       "    <tr>\n",
       "      <th>1</th>\n",
       "      <td>12095015902</td>\n",
       "      <td>0.425127</td>\n",
       "    </tr>\n",
       "    <tr>\n",
       "      <th>2</th>\n",
       "      <td>12095016407</td>\n",
       "      <td>1.343664</td>\n",
       "    </tr>\n",
       "    <tr>\n",
       "      <th>3</th>\n",
       "      <td>12095016507</td>\n",
       "      <td>0.463515</td>\n",
       "    </tr>\n",
       "    <tr>\n",
       "      <th>4</th>\n",
       "      <td>12095017501</td>\n",
       "      <td>0.947435</td>\n",
       "    </tr>\n",
       "  </tbody>\n",
       "</table>\n",
       "</div>"
      ],
      "text/plain": [
       "   census_tract_GEOID  housing-loss-index\n",
       "0         12095016602            0.765360\n",
       "1         12095015902            0.425127\n",
       "2         12095016407            1.343664\n",
       "3         12095016507            0.463515\n",
       "4         12095017501            0.947435"
      ]
     },
     "execution_count": 10,
     "metadata": {},
     "output_type": "execute_result"
    }
   ],
   "source": [
    "map_data.head()"
   ]
  },
  {
   "cell_type": "code",
   "execution_count": 14,
   "id": "12ebea05",
   "metadata": {},
   "outputs": [
    {
     "ename": "NameError",
     "evalue": "name 'gpd' is not defined",
     "output_type": "error",
     "traceback": [
      "\u001b[0;31m---------------------------------------------------------------------------\u001b[0m",
      "\u001b[0;31mNameError\u001b[0m                                 Traceback (most recent call last)",
      "\u001b[0;32m<ipython-input-14-af32a431c4ab>\u001b[0m in \u001b[0;36m<module>\u001b[0;34m\u001b[0m\n\u001b[0;32m----> 1\u001b[0;31m \u001b[0mdf\u001b[0m \u001b[0;34m=\u001b[0m \u001b[0mgpd\u001b[0m\u001b[0;34m.\u001b[0m\u001b[0mread_file\u001b[0m\u001b[0;34m(\u001b[0m\u001b[0;34m'orange_fl_2010_tracts_formatted.geojson'\u001b[0m\u001b[0;34m)\u001b[0m\u001b[0;34m\u001b[0m\u001b[0;34m\u001b[0m\u001b[0m\n\u001b[0m\u001b[1;32m      2\u001b[0m \u001b[0;34m\u001b[0m\u001b[0m\n\u001b[1;32m      3\u001b[0m \u001b[0;34m\u001b[0m\u001b[0m\n\u001b[1;32m      4\u001b[0m \u001b[0;31m#orangec = pd.read_csv(\"orange_fl_processed_2017_to_2019_20210916.csv\")\u001b[0m\u001b[0;34m\u001b[0m\u001b[0;34m\u001b[0m\u001b[0;34m\u001b[0m\u001b[0m\n",
      "\u001b[0;31mNameError\u001b[0m: name 'gpd' is not defined"
     ]
    }
   ],
   "source": [
    "df = gpd.read_file('orange_fl_2010_tracts_formatted.geojson')\n",
    "\n",
    "\n",
    "#orangec = pd.read_csv(\"orange_fl_processed_2017_to_2019_20210916.csv\")\n"
   ]
  },
  {
   "cell_type": "code",
   "execution_count": 12,
   "id": "b6875be0",
   "metadata": {},
   "outputs": [
    {
     "ename": "NameError",
     "evalue": "name 'df' is not defined",
     "output_type": "error",
     "traceback": [
      "\u001b[0;31m---------------------------------------------------------------------------\u001b[0m",
      "\u001b[0;31mNameError\u001b[0m                                 Traceback (most recent call last)",
      "\u001b[0;32m<ipython-input-12-00cf07b74dcd>\u001b[0m in \u001b[0;36m<module>\u001b[0;34m\u001b[0m\n\u001b[0;32m----> 1\u001b[0;31m \u001b[0mdf\u001b[0m\u001b[0;34m\u001b[0m\u001b[0;34m\u001b[0m\u001b[0m\n\u001b[0m",
      "\u001b[0;31mNameError\u001b[0m: name 'df' is not defined"
     ]
    }
   ],
   "source": [
    "df"
   ]
  },
  {
   "cell_type": "code",
   "execution_count": null,
   "id": "9d45d748",
   "metadata": {},
   "outputs": [],
   "source": []
  }
 ],
 "metadata": {
  "kernelspec": {
   "display_name": "Python 3",
   "language": "python",
   "name": "python3"
  },
  "language_info": {
   "codemirror_mode": {
    "name": "ipython",
    "version": 3
   },
   "file_extension": ".py",
   "mimetype": "text/x-python",
   "name": "python",
   "nbconvert_exporter": "python",
   "pygments_lexer": "ipython3",
   "version": "3.8.8"
  }
 },
 "nbformat": 4,
 "nbformat_minor": 5
}
