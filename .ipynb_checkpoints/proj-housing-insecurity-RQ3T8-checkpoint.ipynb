{
 "cells": [
  {
   "cell_type": "markdown",
   "id": "c9db46a0",
   "metadata": {},
   "source": [
    "proj-housing-insecurity\n",
    "\n",
    "Task 8: Using the filtered datasets created in task 4, compare 2014 and 2019 ACS data for Orange County, FL. Which variables changed significantly? Which stayed more or less the same? Are any of these changes meaningful even after taking margins of error into account?"
   ]
  },
  {
   "cell_type": "code",
   "execution_count": 98,
   "id": "ee3d7671",
   "metadata": {},
   "outputs": [
    {
     "data": {
      "text/html": [
       "<style>.container { width:100% !important; }</style>"
      ],
      "text/plain": [
       "<IPython.core.display.HTML object>"
      ]
     },
     "metadata": {},
     "output_type": "display_data"
    }
   ],
   "source": [
    "\n",
    "# dataframe\n",
    "\n",
    "import pandas as pd\n",
    "from scipy import stats\n",
    "import seaborn as sns\n",
    "import matplotlib.pyplot as plt\n",
    "#extend borders \n",
    "from IPython.core.display import display, HTML\n",
    "display(HTML(\"<style>.container { width:100% !important; }</style>\"))"
   ]
  },
  {
   "cell_type": "code",
   "execution_count": 99,
   "id": "2e1863d4",
   "metadata": {},
   "outputs": [],
   "source": [
    "#Define function that will be used to combine lists of variables and remove lists that are not contained in both \n",
    "def intersection(lst1, lst2):\n",
    "    lst3 = [value for value in lst1 if value in lst2]\n",
    "    return lst3"
   ]
  },
  {
   "cell_type": "code",
   "execution_count": null,
   "id": "3fe6f4e3",
   "metadata": {},
   "outputs": [],
   "source": []
  },
  {
   "cell_type": "code",
   "execution_count": 105,
   "id": "6897c092",
   "metadata": {},
   "outputs": [],
   "source": [
    "#set wd\n",
    "os.chdir(\"/Users/jordancreenaune/Desktop/Python_for_Data_Science/DataKind/September/American_Community_Survey_Data\")\n",
    "#import data \n",
    "orangec2014 = pd.read_csv(\"orange_acs5-2014_census.csv\")\n",
    "orangec2014 = orangec2014.T.drop_duplicates().T #remove duplicates columns  \n",
    "orangec2019 = pd.read_csv(\"orange_acs5-2019_census.csv\")\n",
    "acs_dict = pd.read_csv(\"acs5_variable_dict_2014_2019.csv\")\n",
    "orangec2019 = orangec2019.T.drop_duplicates().T #remove duplicates columns \n",
    "#acs_dict_transformed = pd.read_csv(\"ACS_data_dict_labels.csv\")\n",
    "\n"
   ]
  },
  {
   "cell_type": "code",
   "execution_count": 113,
   "id": "d4ddb8ce",
   "metadata": {},
   "outputs": [
    {
     "data": {
      "text/plain": [
       "((207, 849), (207, 875))"
      ]
     },
     "execution_count": 113,
     "metadata": {},
     "output_type": "execute_result"
    }
   ],
   "source": [
    "#rename each column to label for 2014 and 2019 \n",
    "\n",
    "labeled_codes_2014 = intersection(orangec2014.columns, list(acs_dict[~acs_dict.label.isna()]['variable_code']))\n",
    "labled_codes_2014_df = orangec2014[['index']+labeled_codes_2014]\n",
    "\n",
    "\n",
    "labled_columns_2014_df = labled_codes_2014_df\n",
    "labled_columns_2014_df.columns = ['index'] + [acs_dict[(acs_dict[\"variable_code\"]==x)&(acs_dict[\"acs_year\"]==2014)][\"label\"].values[0] for x in labled_columns_2014_df.columns[1:]]\n",
    "\n",
    "\n",
    "\n",
    "labeled_codes_2019 = intersection(orangec2019.columns, list(acs_dict[~acs_dict.label.isna()]['variable_code']))\n",
    "labled_codes_2019_df = orangec2019[['index']+labeled_codes_2019]\n",
    "labled_codes_2019_df = labled_codes_2019_df.loc[:,~labled_codes_2019_df.columns.duplicated()]\n",
    "\n",
    "labled_columns_2019_df = labled_codes_2019_df\n",
    "labled_columns_2019_df.columns = ['index'] + [acs_dict[(acs_dict[\"variable_code\"]==x)&(acs_dict[\"acs_year\"]==2019)][\"label\"].values[0] for x in labled_columns_2019_df.columns[1:]]\n",
    "\n",
    "labled_columns_2014_df.shape, labled_columns_2019_df.shape\n",
    "\n"
   ]
  },
  {
   "cell_type": "code",
   "execution_count": 114,
   "id": "86da0db9",
   "metadata": {},
   "outputs": [
    {
     "data": {
      "text/plain": [
       "524"
      ]
     },
     "execution_count": 114,
     "metadata": {},
     "output_type": "execute_result"
    }
   ],
   "source": [
    "\n",
    "cols_in_both = intersection(labled_columns_2014_df.columns, labled_columns_2019_df.columns)\n",
    "len(cols_in_both)"
   ]
  },
  {
   "cell_type": "code",
   "execution_count": null,
   "id": "0e0c328f",
   "metadata": {},
   "outputs": [],
   "source": [
    "\n"
   ]
  },
  {
   "cell_type": "code",
   "execution_count": null,
   "id": "38cee6be",
   "metadata": {},
   "outputs": [],
   "source": [
    "\n"
   ]
  },
  {
   "cell_type": "code",
   "execution_count": 148,
   "id": "f748c7ad",
   "metadata": {},
   "outputs": [],
   "source": [
    "#Next task - order the census tract numbers so that theyre in order for both dfs - then do correlation matrix between both dfs \n",
    "#Sort ascending order then correlation matrix \n",
    "sort2019 = labled_columns_2019_df.sort_values(by=['index'])\n",
    "sort2014 = labled_columns_2014_df.sort_values(by=['index'])\n",
    "\n"
   ]
  },
  {
   "cell_type": "code",
   "execution_count": null,
   "id": "b24058e9",
   "metadata": {},
   "outputs": [],
   "source": []
  },
  {
   "cell_type": "code",
   "execution_count": null,
   "id": "3e0c1dd7",
   "metadata": {},
   "outputs": [],
   "source": []
  },
  {
   "cell_type": "code",
   "execution_count": null,
   "id": "570c3343",
   "metadata": {},
   "outputs": [],
   "source": []
  },
  {
   "cell_type": "code",
   "execution_count": 153,
   "id": "1c7f5cfa",
   "metadata": {},
   "outputs": [
    {
     "data": {
      "text/plain": [
       "Series([], dtype: float64)"
      ]
     },
     "execution_count": 153,
     "metadata": {},
     "output_type": "execute_result"
    }
   ],
   "source": [
    "labled_columns_2014_df.corrwith(labled_columns_2019_df)"
   ]
  },
  {
   "cell_type": "code",
   "execution_count": 154,
   "id": "f3f397db",
   "metadata": {},
   "outputs": [
    {
     "data": {
      "text/plain": [
       "Series([], dtype: float64)"
      ]
     },
     "execution_count": 154,
     "metadata": {},
     "output_type": "execute_result"
    }
   ],
   "source": [
    "#Need to create correlation matrix between two dfs to determine how \n",
    "corr_matrix = orangec2014.corrwith(orangec2019, axis = 0)\n",
    "corr_matrix.dropna(axis=0, inplace = True)\n",
    "\n",
    "corr_matrix[corr_matrix <.1]\n",
    "\n",
    "corr_matrix.sort_values(ascending=False).head(20)\n",
    "\n",
    "#result = pd.concat([orangec2014, orangec2019], axis=1).corr()\n",
    "#result\n"
   ]
  },
  {
   "cell_type": "code",
   "execution_count": 155,
   "id": "9c1f04da",
   "metadata": {},
   "outputs": [
    {
     "data": {
      "text/plain": [
       "Series([], dtype: float64)"
      ]
     },
     "execution_count": 155,
     "metadata": {},
     "output_type": "execute_result"
    }
   ],
   "source": [
    "corr_matrix.sort_values(ascending=True).head(20)\n"
   ]
  },
  {
   "cell_type": "code",
   "execution_count": null,
   "id": "281c4447",
   "metadata": {},
   "outputs": [],
   "source": [
    "\n",
    "#test test "
   ]
  },
  {
   "cell_type": "code",
   "execution_count": null,
   "id": "2586cccd",
   "metadata": {},
   "outputs": [],
   "source": []
  },
  {
   "cell_type": "code",
   "execution_count": null,
   "id": "1a5275b1",
   "metadata": {},
   "outputs": [],
   "source": []
  }
 ],
 "metadata": {
  "kernelspec": {
   "display_name": "Python 3",
   "language": "python",
   "name": "python3"
  },
  "language_info": {
   "codemirror_mode": {
    "name": "ipython",
    "version": 3
   },
   "file_extension": ".py",
   "mimetype": "text/x-python",
   "name": "python",
   "nbconvert_exporter": "python",
   "pygments_lexer": "ipython3",
   "version": "3.8.8"
  }
 },
 "nbformat": 4,
 "nbformat_minor": 5
}
