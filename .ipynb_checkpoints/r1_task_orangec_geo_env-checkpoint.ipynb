{
 "cells": [
  {
   "cell_type": "code",
   "execution_count": 2,
   "id": "8d6617de",
   "metadata": {},
   "outputs": [
    {
     "data": {
      "text/html": [
       "<style>.container { width:100% !important; }</style>"
      ],
      "text/plain": [
       "<IPython.core.display.HTML object>"
      ]
     },
     "metadata": {},
     "output_type": "display_data"
    }
   ],
   "source": [
    "\n",
    "# dataframe\n",
    "import numpy as np\n",
    "import pandas as pd\n",
    "import matplotlib.pyplot as plt\n",
    "import seaborn as sns\n",
    "import os\n",
    "import geopandas as gpd\n",
    "import folium\n",
    "import geopandas as gpd\n",
    "import geopandas\n",
    "import geoplot\n",
    "#extend borders \n",
    "from IPython.core.display import display, HTML\n",
    "display(HTML(\"<style>.container { width:100% !important; }</style>\"))\n"
   ]
  },
  {
   "cell_type": "code",
   "execution_count": 3,
   "id": "b620f782",
   "metadata": {},
   "outputs": [],
   "source": [
    "#set wd\n",
    "os.chdir(\"/Users/jordancreenaune/Desktop/Python_for_Data_Science/DataKind/September/housing_loss_data\")\n",
    "#import data \n",
    "orangec = pd.read_csv(\"orange_fl_processed_2017_to_2019_20210916.csv\")"
   ]
  },
  {
   "cell_type": "code",
   "execution_count": 4,
   "id": "02fc25ae",
   "metadata": {},
   "outputs": [],
   "source": [
    "result=orangec.set_index('census_tract_GEOID')\n"
   ]
  },
  {
   "cell_type": "code",
   "execution_count": 5,
   "id": "d03e3413",
   "metadata": {},
   "outputs": [
    {
     "data": {
      "text/plain": [
       "Index(['census_tract_GEOID', 'total-households',\n",
       "       'total-renter-occupied-households', 'total-owner-occupied-households',\n",
       "       'total-owner-occupied-households-mortgage', 'median-gross-rent',\n",
       "       'median-household-income', 'median-property-value',\n",
       "       'median-monthly-housing-cost', 'pct-white', 'pct-af-am', 'pct-hispanic',\n",
       "       'pct-am-indian', 'pct-asian', 'pct-nh-pi', 'pct-multiple', 'pct-other',\n",
       "       'pct-below-poverty-level', 'households-children',\n",
       "       'single-parent-household', 'older-adult-alone', 'level-of-education',\n",
       "       'immigrant-status', 'english-fluency', 'drive-to-work',\n",
       "       'public-transport-to-work', 'vacant-properties', 'live-in-mobile-home',\n",
       "       'pct-renter-occupied', 'pct-owner-occupied',\n",
       "       'pct-owner-occupied-mortgage', 'pct-owner-occupied-without-mortgage',\n",
       "       'median-house-age', 'pct-non-white', 'pct-without-health-insurance',\n",
       "       'total-evictions', 'avg-evictions', 'total-foreclosure-sales',\n",
       "       'avg-foreclosure-sales', 'total-lien-foreclosures',\n",
       "       'avg-lien-foreclosures', 'total-evictions-2017',\n",
       "       'eviction-filings-2017', 'eviction-rate-2017', 'total-evictions-2018',\n",
       "       'eviction-filings-2018', 'eviction-rate-2018', 'total-evictions-2019',\n",
       "       'eviction-filings-2019', 'eviction-rate-2019', 'foreclosure-sales-2017',\n",
       "       'foreclosure-sales-2018', 'foreclosure-sales-2019',\n",
       "       'lien-foreclosures-2017', 'lien-foreclosures-2018',\n",
       "       'lien-foreclosures-2019', 'avg-foreclosure-rate',\n",
       "       'foreclosure-rate-2017', 'foreclosure-rate-2018',\n",
       "       'foreclosure-rate-2019', 'avg-lien-foreclosure-rate',\n",
       "       'lien-foreclosure-rate-2017', 'lien-foreclosure-rate-2018',\n",
       "       'lien-foreclosure-rate-2019', 'avg-eviction-rate',\n",
       "       'ratio-to-mean-foreclosure-rate', 'ratio-to-mean-eviction-rate',\n",
       "       'avg-housing-loss-rate', 'evictions-pct-total-housing-loss',\n",
       "       'housing-loss-index', 'county_GEOID', 'county', 'state'],\n",
       "      dtype='object')"
      ]
     },
     "execution_count": 5,
     "metadata": {},
     "output_type": "execute_result"
    }
   ],
   "source": [
    "#check what columns to use \n",
    "orangec.columns\n"
   ]
  },
  {
   "cell_type": "code",
   "execution_count": 6,
   "id": "8eb10db0",
   "metadata": {},
   "outputs": [],
   "source": [
    "#Select data that we are interested in - census tract + housing loss \n",
    "\n",
    "map_data=result.reset_index()[['census_tract_GEOID', 'housing-loss-index']]"
   ]
  },
  {
   "cell_type": "code",
   "execution_count": 7,
   "id": "6a7b3d3e",
   "metadata": {},
   "outputs": [
    {
     "data": {
      "text/html": [
       "<div>\n",
       "<style scoped>\n",
       "    .dataframe tbody tr th:only-of-type {\n",
       "        vertical-align: middle;\n",
       "    }\n",
       "\n",
       "    .dataframe tbody tr th {\n",
       "        vertical-align: top;\n",
       "    }\n",
       "\n",
       "    .dataframe thead th {\n",
       "        text-align: right;\n",
       "    }\n",
       "</style>\n",
       "<table border=\"1\" class=\"dataframe\">\n",
       "  <thead>\n",
       "    <tr style=\"text-align: right;\">\n",
       "      <th></th>\n",
       "      <th>census_tract_GEOID</th>\n",
       "      <th>housing-loss-index</th>\n",
       "    </tr>\n",
       "  </thead>\n",
       "  <tbody>\n",
       "    <tr>\n",
       "      <th>0</th>\n",
       "      <td>12095016602</td>\n",
       "      <td>0.765360</td>\n",
       "    </tr>\n",
       "    <tr>\n",
       "      <th>1</th>\n",
       "      <td>12095015902</td>\n",
       "      <td>0.425127</td>\n",
       "    </tr>\n",
       "    <tr>\n",
       "      <th>2</th>\n",
       "      <td>12095016407</td>\n",
       "      <td>1.343664</td>\n",
       "    </tr>\n",
       "    <tr>\n",
       "      <th>3</th>\n",
       "      <td>12095016507</td>\n",
       "      <td>0.463515</td>\n",
       "    </tr>\n",
       "    <tr>\n",
       "      <th>4</th>\n",
       "      <td>12095017501</td>\n",
       "      <td>0.947435</td>\n",
       "    </tr>\n",
       "  </tbody>\n",
       "</table>\n",
       "</div>"
      ],
      "text/plain": [
       "   census_tract_GEOID  housing-loss-index\n",
       "0         12095016602            0.765360\n",
       "1         12095015902            0.425127\n",
       "2         12095016407            1.343664\n",
       "3         12095016507            0.463515\n",
       "4         12095017501            0.947435"
      ]
     },
     "execution_count": 7,
     "metadata": {},
     "output_type": "execute_result"
    }
   ],
   "source": [
    "map_data.head()"
   ]
  },
  {
   "cell_type": "code",
   "execution_count": 8,
   "id": "9493ed67",
   "metadata": {},
   "outputs": [],
   "source": [
    "df = gpd.read_file('orange_fl_2010_tracts_formatted.geojson')\n",
    "\n",
    "\n",
    "#orangec = pd.read_csv(\"orange_fl_processed_2017_to_2019_20210916.csv\")"
   ]
  },
  {
   "cell_type": "code",
   "execution_count": 9,
   "id": "d00bbb49",
   "metadata": {},
   "outputs": [
    {
     "data": {
      "text/html": [
       "<div>\n",
       "<style scoped>\n",
       "    .dataframe tbody tr th:only-of-type {\n",
       "        vertical-align: middle;\n",
       "    }\n",
       "\n",
       "    .dataframe tbody tr th {\n",
       "        vertical-align: top;\n",
       "    }\n",
       "\n",
       "    .dataframe thead th {\n",
       "        text-align: right;\n",
       "    }\n",
       "</style>\n",
       "<table border=\"1\" class=\"dataframe\">\n",
       "  <thead>\n",
       "    <tr style=\"text-align: right;\">\n",
       "      <th></th>\n",
       "      <th>census_tract_GEOID</th>\n",
       "      <th>geometry</th>\n",
       "    </tr>\n",
       "  </thead>\n",
       "  <tbody>\n",
       "    <tr>\n",
       "      <th>0</th>\n",
       "      <td>12095012402</td>\n",
       "      <td>POLYGON ((-81.43856 28.59092, -81.43856 28.590...</td>\n",
       "    </tr>\n",
       "    <tr>\n",
       "      <th>1</th>\n",
       "      <td>12095012000</td>\n",
       "      <td>POLYGON ((-81.45218 28.57349, -81.45219 28.573...</td>\n",
       "    </tr>\n",
       "    <tr>\n",
       "      <th>2</th>\n",
       "      <td>12095016602</td>\n",
       "      <td>POLYGON ((-81.15419 28.56535, -81.15418 28.565...</td>\n",
       "    </tr>\n",
       "    <tr>\n",
       "      <th>3</th>\n",
       "      <td>12095014904</td>\n",
       "      <td>POLYGON ((-81.50493 28.55923, -81.50492 28.558...</td>\n",
       "    </tr>\n",
       "    <tr>\n",
       "      <th>4</th>\n",
       "      <td>12095014702</td>\n",
       "      <td>POLYGON ((-81.47583 28.53910, -81.47582 28.538...</td>\n",
       "    </tr>\n",
       "    <tr>\n",
       "      <th>...</th>\n",
       "      <td>...</td>\n",
       "      <td>...</td>\n",
       "    </tr>\n",
       "    <tr>\n",
       "      <th>202</th>\n",
       "      <td>12095017806</td>\n",
       "      <td>POLYGON ((-81.48867 28.68444, -81.48868 28.684...</td>\n",
       "    </tr>\n",
       "    <tr>\n",
       "      <th>203</th>\n",
       "      <td>12095014608</td>\n",
       "      <td>POLYGON ((-81.45939 28.52799, -81.45936 28.527...</td>\n",
       "    </tr>\n",
       "    <tr>\n",
       "      <th>204</th>\n",
       "      <td>12095014609</td>\n",
       "      <td>POLYGON ((-81.45930 28.52077, -81.45928 28.519...</td>\n",
       "    </tr>\n",
       "    <tr>\n",
       "      <th>205</th>\n",
       "      <td>12095014908</td>\n",
       "      <td>POLYGON ((-81.49210 28.56448, -81.49211 28.564...</td>\n",
       "    </tr>\n",
       "    <tr>\n",
       "      <th>206</th>\n",
       "      <td>12095013402</td>\n",
       "      <td>POLYGON ((-81.29638 28.52906, -81.29638 28.528...</td>\n",
       "    </tr>\n",
       "  </tbody>\n",
       "</table>\n",
       "<p>207 rows × 2 columns</p>\n",
       "</div>"
      ],
      "text/plain": [
       "    census_tract_GEOID                                           geometry\n",
       "0          12095012402  POLYGON ((-81.43856 28.59092, -81.43856 28.590...\n",
       "1          12095012000  POLYGON ((-81.45218 28.57349, -81.45219 28.573...\n",
       "2          12095016602  POLYGON ((-81.15419 28.56535, -81.15418 28.565...\n",
       "3          12095014904  POLYGON ((-81.50493 28.55923, -81.50492 28.558...\n",
       "4          12095014702  POLYGON ((-81.47583 28.53910, -81.47582 28.538...\n",
       "..                 ...                                                ...\n",
       "202        12095017806  POLYGON ((-81.48867 28.68444, -81.48868 28.684...\n",
       "203        12095014608  POLYGON ((-81.45939 28.52799, -81.45936 28.527...\n",
       "204        12095014609  POLYGON ((-81.45930 28.52077, -81.45928 28.519...\n",
       "205        12095014908  POLYGON ((-81.49210 28.56448, -81.49211 28.564...\n",
       "206        12095013402  POLYGON ((-81.29638 28.52906, -81.29638 28.528...\n",
       "\n",
       "[207 rows x 2 columns]"
      ]
     },
     "execution_count": 9,
     "metadata": {},
     "output_type": "execute_result"
    }
   ],
   "source": [
    "df"
   ]
  },
  {
   "cell_type": "code",
   "execution_count": null,
   "id": "ebb91e77",
   "metadata": {},
   "outputs": [],
   "source": []
  }
 ],
 "metadata": {
  "kernelspec": {
   "display_name": "geo_env",
   "language": "python",
   "name": "geo_env"
  },
  "language_info": {
   "codemirror_mode": {
    "name": "ipython",
    "version": 3
   },
   "file_extension": ".py",
   "mimetype": "text/x-python",
   "name": "python",
   "nbconvert_exporter": "python",
   "pygments_lexer": "ipython3",
   "version": "3.9.7"
  }
 },
 "nbformat": 4,
 "nbformat_minor": 5
}
