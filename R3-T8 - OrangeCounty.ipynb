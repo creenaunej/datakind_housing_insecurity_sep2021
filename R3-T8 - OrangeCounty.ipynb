{
 "cells": [
  {
   "cell_type": "markdown",
   "id": "5d0df902",
   "metadata": {},
   "source": [
    "proj-housing-insecurity\n",
    "\n",
    "Task 8: Using the filtered datasets created in task 4, compare 2014 and 2019 ACS data for Orange County, FL. Which variables changed significantly? Which stayed more or less the same? Are any of these changes meaningful even after taking margins of error into account?"
   ]
  },
  {
   "cell_type": "code",
   "execution_count": 22,
   "id": "8a6158c6",
   "metadata": {},
   "outputs": [
    {
     "data": {
      "text/html": [
       "<style>.container { width:100% !important; }</style>"
      ],
      "text/plain": [
       "<IPython.core.display.HTML object>"
      ]
     },
     "metadata": {},
     "output_type": "display_data"
    }
   ],
   "source": [
    "\n",
    "# dataframe\n",
    "import numpy as np\n",
    "import pandas as pd\n",
    "import matplotlib.pyplot as plt\n",
    "import seaborn as sns\n",
    "import os\n",
    "\n",
    "\n",
    "#extend borders \n",
    "from IPython.core.display import display, HTML\n",
    "display(HTML(\"<style>.container { width:100% !important; }</style>\"))"
   ]
  },
  {
   "cell_type": "code",
   "execution_count": 23,
   "id": "5d628b33",
   "metadata": {},
   "outputs": [],
   "source": [
    "#set wd\n",
    "os.chdir(\"/Users/jordancreenaune/Desktop/Python_for_Data_Science/DataKind/September/American_Community_Survey_Data\")\n",
    "#import data \n",
    "miamid2014 = pd.read_csv(\"miami_dade_acs5-2014_census.csv\")\n",
    "miamid2019 = pd.read_csv(\"miami_dade_acs5-2019_census.csv\")\n",
    "acs_dict = pd.read_csv(\"acs5_variable_dict_2014_2019.csv\")\n"
   ]
  },
  {
   "cell_type": "code",
   "execution_count": 25,
   "id": "3d4116b1",
   "metadata": {},
   "outputs": [
    {
     "data": {
      "text/html": [
       "<div>\n",
       "<style scoped>\n",
       "    .dataframe tbody tr th:only-of-type {\n",
       "        vertical-align: middle;\n",
       "    }\n",
       "\n",
       "    .dataframe tbody tr th {\n",
       "        vertical-align: top;\n",
       "    }\n",
       "\n",
       "    .dataframe thead th {\n",
       "        text-align: right;\n",
       "    }\n",
       "</style>\n",
       "<table border=\"1\" class=\"dataframe\">\n",
       "  <thead>\n",
       "    <tr style=\"text-align: right;\">\n",
       "      <th></th>\n",
       "      <th>variable_code</th>\n",
       "      <th>label</th>\n",
       "      <th>concept</th>\n",
       "      <th>predicateType</th>\n",
       "      <th>group</th>\n",
       "      <th>limit</th>\n",
       "      <th>predicateOnly</th>\n",
       "      <th>acs_year</th>\n",
       "    </tr>\n",
       "  </thead>\n",
       "  <tbody>\n",
       "    <tr>\n",
       "      <th>0</th>\n",
       "      <td>DP02_0019EA</td>\n",
       "      <td>Annotation of Estimate!!RELATIONSHIP!!Populati...</td>\n",
       "      <td>SELECTED SOCIAL CHARACTERISTICS IN THE UNITED ...</td>\n",
       "      <td>string</td>\n",
       "      <td>DP02</td>\n",
       "      <td>0</td>\n",
       "      <td>True</td>\n",
       "      <td>2014</td>\n",
       "    </tr>\n",
       "    <tr>\n",
       "      <th>1</th>\n",
       "      <td>DP02_0126E</td>\n",
       "      <td>Estimate!!ANCESTRY!!Total population!!Danish</td>\n",
       "      <td>SELECTED SOCIAL CHARACTERISTICS IN THE UNITED ...</td>\n",
       "      <td>int</td>\n",
       "      <td>DP02</td>\n",
       "      <td>0</td>\n",
       "      <td>True</td>\n",
       "      <td>2014</td>\n",
       "    </tr>\n",
       "    <tr>\n",
       "      <th>2</th>\n",
       "      <td>DP02_0072EA</td>\n",
       "      <td>Annotation of Estimate!!DISABILITY STATUS OF T...</td>\n",
       "      <td>SELECTED SOCIAL CHARACTERISTICS IN THE UNITED ...</td>\n",
       "      <td>string</td>\n",
       "      <td>DP02</td>\n",
       "      <td>0</td>\n",
       "      <td>True</td>\n",
       "      <td>2014</td>\n",
       "    </tr>\n",
       "    <tr>\n",
       "      <th>3</th>\n",
       "      <td>DP02_0069PMA</td>\n",
       "      <td>Annotation of Percent Margin of Error!!VETERAN...</td>\n",
       "      <td>SELECTED SOCIAL CHARACTERISTICS IN THE UNITED ...</td>\n",
       "      <td>string</td>\n",
       "      <td>DP02</td>\n",
       "      <td>0</td>\n",
       "      <td>True</td>\n",
       "      <td>2014</td>\n",
       "    </tr>\n",
       "    <tr>\n",
       "      <th>4</th>\n",
       "      <td>DP02_0126M</td>\n",
       "      <td>Margin of Error!!ANCESTRY!!Total population!!D...</td>\n",
       "      <td>SELECTED SOCIAL CHARACTERISTICS IN THE UNITED ...</td>\n",
       "      <td>int</td>\n",
       "      <td>DP02</td>\n",
       "      <td>0</td>\n",
       "      <td>True</td>\n",
       "      <td>2014</td>\n",
       "    </tr>\n",
       "  </tbody>\n",
       "</table>\n",
       "</div>"
      ],
      "text/plain": [
       "  variable_code                                              label  \\\n",
       "0   DP02_0019EA  Annotation of Estimate!!RELATIONSHIP!!Populati...   \n",
       "1    DP02_0126E       Estimate!!ANCESTRY!!Total population!!Danish   \n",
       "2   DP02_0072EA  Annotation of Estimate!!DISABILITY STATUS OF T...   \n",
       "3  DP02_0069PMA  Annotation of Percent Margin of Error!!VETERAN...   \n",
       "4    DP02_0126M  Margin of Error!!ANCESTRY!!Total population!!D...   \n",
       "\n",
       "                                             concept predicateType group  \\\n",
       "0  SELECTED SOCIAL CHARACTERISTICS IN THE UNITED ...        string  DP02   \n",
       "1  SELECTED SOCIAL CHARACTERISTICS IN THE UNITED ...           int  DP02   \n",
       "2  SELECTED SOCIAL CHARACTERISTICS IN THE UNITED ...        string  DP02   \n",
       "3  SELECTED SOCIAL CHARACTERISTICS IN THE UNITED ...        string  DP02   \n",
       "4  SELECTED SOCIAL CHARACTERISTICS IN THE UNITED ...           int  DP02   \n",
       "\n",
       "   limit  predicateOnly  acs_year  \n",
       "0      0           True      2014  \n",
       "1      0           True      2014  \n",
       "2      0           True      2014  \n",
       "3      0           True      2014  \n",
       "4      0           True      2014  "
      ]
     },
     "execution_count": 25,
     "metadata": {},
     "output_type": "execute_result"
    }
   ],
   "source": []
  },
  {
   "cell_type": "code",
   "execution_count": null,
   "id": "d62334ca",
   "metadata": {},
   "outputs": [],
   "source": []
  }
 ],
 "metadata": {
  "kernelspec": {
   "display_name": "Python 3",
   "language": "python",
   "name": "python3"
  },
  "language_info": {
   "codemirror_mode": {
    "name": "ipython",
    "version": 3
   },
   "file_extension": ".py",
   "mimetype": "text/x-python",
   "name": "python",
   "nbconvert_exporter": "python",
   "pygments_lexer": "ipython3",
   "version": "3.8.8"
  }
 },
 "nbformat": 4,
 "nbformat_minor": 5
}
